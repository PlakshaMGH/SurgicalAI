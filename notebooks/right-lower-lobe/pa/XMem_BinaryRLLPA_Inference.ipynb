{
 "cells": [
  {
   "cell_type": "code",
   "execution_count": null,
   "id": "58342a89-48bc-4ffe-896f-c9148629fee2",
   "metadata": {},
   "outputs": [],
   "source": [
    "import os\n",
    "import sys\n",
    "import gc"
   ]
  },
  {
   "cell_type": "code",
   "execution_count": null,
   "id": "583132f0-df43-444b-8930-379bdb6805b1",
   "metadata": {},
   "outputs": [],
   "source": [
    "XMem_path = os.path.abspath('./XMem')\n",
    "sys.path.append(XMem_path)\n",
    "# !wget -P ./saves/ https://github.com/hkchengrex/XMem/releases/download/v1.0/XMem.pth"
   ]
  },
  {
   "cell_type": "code",
   "execution_count": null,
   "id": "a30f0a10-f32f-4ecf-bfb9-10b01f7bd9a3",
   "metadata": {
    "scrolled": true
   },
   "outputs": [],
   "source": [
    "from inspect import getsource\n",
    "from pathlib import Path\n",
    "from os import path\n",
    "import re\n",
    "\n",
    "import cv2\n",
    "import numpy as np\n",
    "from PIL import Image\n",
    "from skimage import io\n",
    "from tqdm import tqdm\n",
    "import matplotlib.pyplot as plt\n",
    "\n",
    "import torch\n",
    "import torch.nn.functional as F\n",
    "from torch.utils.data.dataset import Dataset\n",
    "from torch.utils.data import DataLoader\n",
    "from torchvision import transforms\n",
    "from torchvision.transforms import InterpolationMode\n",
    "# from torchmetrics.classification import BinaryJaccardIndex\n",
    "# from torchmetrics.classification import Dice\n",
    "from torchmetrics.functional.classification import binary_jaccard_index\n",
    "from torchmetrics.functional import dice\n",
    "\n",
    "# from inference.data.test_datasets import LongTestDataset, DAVISTestDataset, YouTubeVOSTestDataset\n",
    "# from inference.data.mask_mapper import MaskMapper\n",
    "from model.network import XMem\n",
    "from inference.inference_core import InferenceCore\n",
    "from inference.data.mask_mapper import MaskMapper\n",
    "\n",
    "from inference.interact.interactive_utils import image_to_torch, index_numpy_to_one_hot_torch, torch_prob_to_numpy_mask\n",
    "\n",
    "from progressbar import progressbar\n",
    "\n",
    "torch.set_grad_enabled(False)\n",
    "\n",
    "# default configuration\n",
    "config = {\n",
    "    'top_k': 30,\n",
    "    'mem_every': 5,\n",
    "    'deep_update_every': -1,\n",
    "    'enable_long_term': True,\n",
    "    'enable_long_term_count_usage': True,\n",
    "    'num_prototypes': 128,\n",
    "    'min_mid_term_frames': 5,\n",
    "    'max_mid_term_frames': 10,\n",
    "    'max_long_term_elements': 10000,\n",
    "}\n",
    "\n",
    "if torch.cuda.is_available():\n",
    "  print('Using GPU')\n",
    "  device = 'cuda'\n",
    "else:\n",
    "  print('CUDA not available. Please connect to a GPU instance if possible.')\n",
    "  device = 'cpu'\n",
    "\n",
    "# network = XMem(config, '../XMem/saves/XMem.pth').eval().to(device)"
   ]
  },
  {
   "cell_type": "code",
   "execution_count": null,
   "id": "9a73ca69-74b0-4bda-9be7-b86eec6b00be",
   "metadata": {},
   "outputs": [],
   "source": [
    "!nvidia-smi"
   ]
  },
  {
   "cell_type": "code",
   "execution_count": null,
   "id": "14be6ca1-a27e-4750-a54f-ea70c862b222",
   "metadata": {},
   "outputs": [],
   "source": [
    "# torch.cuda.empty_cache()\n",
    "\n",
    "# COLOR = (3, 192, 60)\n",
    "\n",
    "\n",
    "# # Pulmonary Vein\n",
    "# main_folder = Path(\"./data\")\n",
    "# VIDEOS_PATH = main_folder/\"tframes\"\n",
    "# MASKS_PATH = main_folder/\"tmasks\""
   ]
  },
  {
   "cell_type": "code",
   "execution_count": null,
   "id": "f754443a-ecea-4b31-ba0a-ad178f1dd795",
   "metadata": {},
   "outputs": [],
   "source": [
    "torch.cuda.empty_cache()\n",
    "\n",
    "COLOR = (3, 192, 60)\n",
    "\n",
    "# processor = InferenceCore(network, config=config)\n",
    "# NUM_OBJECTS = 1 # Binary Segmentation\n",
    "# processor.set_all_labels(range(1, NUM_OBJECTS+1))\n",
    "\n",
    "main_folder = Path(\"./data\")\n",
    "VIDEOS_PATH = main_folder/\"frames\"\n",
    "MASKS_PATH = main_folder/\"masks\""
   ]
  },
  {
   "cell_type": "code",
   "execution_count": null,
   "id": "b4d0b039-36e8-4128-920e-824bc13c7910",
   "metadata": {},
   "outputs": [],
   "source": [
    "# Depreciated\n",
    "def binary2color(binary_mask, color):\n",
    "    binary_mask = torch_prob_to_numpy_mask(binary_mask)\n",
    "    pred_mask = np.tile(binary_mask[..., np.newaxis], (1,1,3)) # Make it 3 Channel\n",
    "    mask = np.where(pred_mask == (1,)*3, color, 0).astype('uint8') # Convert Prediction with Color\n",
    "    return mask"
   ]
  },
  {
   "cell_type": "code",
   "execution_count": null,
   "id": "f51b28be",
   "metadata": {},
   "outputs": [],
   "source": [
    "def color_map(pred_mask: np.ndarray, gt_mask: np.ndarray):\n",
    "    # Intersection of pred_mask and gt_mask: True Positive\n",
    "    true_positive = np.bitwise_and(pred_mask, gt_mask)\n",
    "    # Only Pred not GT: False Positive\n",
    "    false_positive = np.bitwise_and(pred_mask, np.bitwise_not(gt_mask))\n",
    "    # Only GT not Pred: False Negative\n",
    "    false_negative = np.bitwise_and(np.bitwise_not(pred_mask), gt_mask)\n",
    "\n",
    "    # Colors\n",
    "    green = (0, 255, 0)\n",
    "    red = (255, 0, 0)\n",
    "    blue = (0, 0, 255)\n",
    "\n",
    "    # Creating Color Map Image\n",
    "    h,w = pred_mask.shape[:2]\n",
    "    color_map = np.zeros((h,w,3), dtype=np.uint8)\n",
    "    color_map[true_positive!=0] = green\n",
    "    color_map[false_positive!=0] = red\n",
    "    color_map[false_negative!=0] = blue\n",
    "\n",
    "    return color_map"
   ]
  },
  {
   "cell_type": "code",
   "execution_count": 6,
   "id": "9f098b82",
   "metadata": {},
   "outputs": [
    {
     "name": "stdout",
     "output_type": "stream",
     "text": [
      "Predicted Mask\n"
     ]
    },
    {
     "data": {
      "image/png": "[encoded data removed]",
      "text/plain": [
       "<Figure size 640x480 with 1 Axes>"
      ]
     },
     "metadata": {},
     "output_type": "display_data"
    },
    {
     "name": "stdout",
     "output_type": "stream",
     "text": [
      "Ground Truth Mask\n"
     ]
    },
    {
     "data": {
      "image/png": "[encoded data removed]",
      "text/plain": [
       "<Figure size 640x480 with 1 Axes>"
      ]
     },
     "metadata": {},
     "output_type": "display_data"
    },
    {
     "name": "stdout",
     "output_type": "stream",
     "text": [
      "Color Map\n"
     ]
    },
    {
     "data": {
      "image/png": "[encoded data removed]",
      "text/plain": [
       "<Figure size 640x480 with 1 Axes>"
      ]
     },
     "metadata": {},
     "output_type": "display_data"
    }
   ],
   "source": [
    "a = np.zeros((10,10), dtype=np.uint8)\n",
    "a[4:8, 4:8] = 1\n",
    "b = np.zeros((10,10), dtype=np.uint8)\n",
    "b[2:6, 2:6] = 1\n",
    "c = color_map(a, b)\n",
    "print(\"Predicted Mask\")\n",
    "plt.imshow(a); plt.show()\n",
    "print(\"Ground Truth Mask\")\n",
    "plt.imshow(b); plt.show()\n",
    "print(\"Color Map\")\n",
    "plt.imshow(c); plt.show()"
   ]
  },
  {
   "cell_type": "code",
   "execution_count": null,
   "id": "6db1b5d5-a31e-4dda-ab95-047d377c83e7",
   "metadata": {},
   "outputs": [],
   "source": [
    "def frames2video(frames_dict, folder_save_path, video_name, FPS=5):\n",
    "    video_path = f'{folder_save_path}/{video_name}_{FPS}FPS.mp4'\n",
    "    print(\"Creating video and saving:\", video_path)\n",
    "    frame = frames_dict[list(frames_dict.keys())[-1]]\n",
    "    size1,size2,_ = frame.shape\n",
    "    out = cv2.VideoWriter(video_path, cv2.VideoWriter_fourcc(*'mp4v'), FPS, (size2, size1), True)\n",
    "    # Sorting the frames according to frame number eg: frame_007.png\n",
    "    for _,i in sorted(frames_dict.items(), key=lambda x: x[0]):\n",
    "        out_img = cv2.cvtColor(i, cv2.COLOR_BGR2RGB)\n",
    "        out.write(out_img)\n",
    "    out.release()"
   ]
  },
  {
   "cell_type": "code",
   "execution_count": null,
   "id": "c07d97b3-45cd-4bd3-b3a9-93d4c20ae362",
   "metadata": {},
   "outputs": [],
   "source": [
    "# Depreciated: Implemented inside getIoU function\n",
    "def pred2overlay(og_frames, pred_frames):\n",
    "    overlay_dict = {}\n",
    "    for frame_name, frame in og_frames.items():\n",
    "        colored_mask = binary2color(pred_frames[frame_name], (34,139,34)) # forestgreen https://www.rapidtables.com/web/color/green-color.html\n",
    "        overlay = cv2.addWeighted(frame, 1, colored_mask, 0.5, 0)\n",
    "        overlay_dict[frame_name] = overlay\n",
    "    return overlay_dict"
   ]
  },
  {
   "cell_type": "code",
   "execution_count": null,
   "id": "d53a0661-5ef8-46b1-b7f8-0d23b38f64bd",
   "metadata": {},
   "outputs": [],
   "source": [
    "def getIoU(pred_frames, path_dicts, video=True, og_frames = None, save_path=None):\n",
    "    \n",
    "    IoU = [0]*len(pred_frames)\n",
    "    dice_ = [0]*len(pred_frames)\n",
    "    overlaid_images = {}\n",
    "    # get the first mask frame from pred_frames dictionary and get its shape\n",
    "    _,h,w = pred_frames[list(pred_frames.keys())[0]].shape # [0]:first key\n",
    "    for i, (frame_name, mask) in enumerate(tqdm(pred_frames.items())):\n",
    "        np_mask = torch_prob_to_numpy_mask(mask) # predictions probabilities to numpy mask\n",
    "        torch_mask = torch.tensor(np_mask).to(device)\n",
    "        \n",
    "        truth_mask = io.imread(path_dicts[frame_name][1]) # 0: frame_path, 1: mask_path\n",
    "        truth_mask[truth_mask == 255] = 1\n",
    "        if np.sum(truth_mask) < (0.01*h*w): # if mask is empty or covers less than 1% of image\n",
    "            continue\n",
    "\n",
    "        if video:\n",
    "            overlaid_images[frame_name] = cv2.addWeighted(og_frames[frame_name], 1, color_map(np_mask, truth_mask), 0.5, 0)\n",
    "        if save_path:\n",
    "            io.imsave(save_path/frame_name, np_mask, check_contrast=False)\n",
    "\n",
    "        truth_mask = torch.tensor(truth_mask).to(device)\n",
    "        IoU[i] = binary_jaccard_index(torch_mask, truth_mask)\n",
    "        dice_[i] = dice(torch_mask, truth_mask)\n",
    "        \n",
    "    meanIoU = sum(IoU)/len(IoU)\n",
    "    meanDice = sum(dice_)/len(dice_)\n",
    "    \n",
    "    return meanIoU, IoU, meanDice, dice, overlaid_images"
   ]
  },
  {
   "cell_type": "code",
   "execution_count": null,
   "id": "62ec5895-4780-4277-b42c-26f2f7f4740a",
   "metadata": {},
   "outputs": [],
   "source": [
    "im_normalization = transforms.Normalize(\n",
    "                    mean=[0.485, 0.456, 0.406],\n",
    "                    std=[0.229, 0.224, 0.225]\n",
    "                )\n",
    "\n",
    "def resize_mask(mask, size):\n",
    "        mask = mask.unsqueeze(0).unsqueeze(0)\n",
    "        h, w = mask.shape[-2:]\n",
    "        min_hw = min(h, w)\n",
    "        return F.interpolate(mask, (int(h/min_hw*size), int(w/min_hw*size)), \n",
    "                    mode='nearest')[0]\n",
    "\n",
    "def singleVideoInference(images_paths, first_mask, processor, size = -1):\n",
    "    predictions = {}\n",
    "    frames = {}\n",
    "    with torch.cuda.amp.autocast(enabled=True):\n",
    "\n",
    "        # images_paths = sorted(images_paths)\n",
    "\n",
    "        # First Frame\n",
    "        frame = io.imread(images_paths[0])\n",
    "        og_shape = frame.shape[:2]\n",
    "        if size < 0:\n",
    "            im_transform = transforms.Compose([\n",
    "                transforms.ToTensor(),\n",
    "                im_normalization,\n",
    "            ])\n",
    "        else:\n",
    "            im_transform = transforms.Compose([\n",
    "                transforms.ToTensor(),\n",
    "                im_normalization,\n",
    "                transforms.Resize(size, interpolation=InterpolationMode.BILINEAR, antialias=False),\n",
    "            ])\n",
    "            \n",
    "        frame_torch = im_transform(frame).to(device)\n",
    "        first_mask = first_mask.astype(np.uint8)\n",
    "        if size > 0:\n",
    "            first_mask = torch.tensor(first_mask).to(device)\n",
    "            first_mask = resize_mask(first_mask, size)\n",
    "        else:\n",
    "            NUM_OBJECTS = 1 # Binary Segmentation\n",
    "            first_mask = index_numpy_to_one_hot_torch(first_mask, NUM_OBJECTS+1).to(device)\n",
    "            first_mask = first_mask[1:]\n",
    "            \n",
    "        prediction = processor.step(frame_torch, first_mask)\n",
    "        \n",
    "        for image_path in tqdm(images_paths[1:]):\n",
    "            frame = io.imread(image_path)\n",
    "            # convert numpy array to pytorch tensor format\n",
    "            frame_torch = im_transform(frame).to(device)\n",
    "            \n",
    "            prediction = processor.step(frame_torch)\n",
    "            # Upsample to original size if needed\n",
    "            if size > 0:\n",
    "                prediction = F.interpolate(prediction.unsqueeze(1), og_shape, mode='bilinear', align_corners=False)[:,0]\n",
    "            predictions[image_path.name] = prediction\n",
    "            frames[image_path.name] = frame\n",
    "\n",
    "    return frames, predictions"
   ]
  },
  {
   "cell_type": "code",
   "execution_count": null,
   "id": "add1feb9-c9a4-4082-9972-19ae9c521664",
   "metadata": {},
   "outputs": [],
   "source": [
    "def firstMaskGT(mask_files):\n",
    "\n",
    "    for idx, mask_path in enumerate(mask_files):        \n",
    "        \n",
    "        mask = io.imread(mask_path)\n",
    "        # All 255 Values replaced with 1, other values remain as it is.\n",
    "        mask = np.where(mask == 255, 1, mask)\n",
    "        h,w = mask.shape\n",
    "        if np.sum(mask) > 0 and ( np.sum(mask) > (0.01*h*w) ): # or can use percentage of image, like > 1%\n",
    "            return mask, idx\n",
    "            \n",
    "    return None, -1"
   ]
  },
  {
   "cell_type": "code",
   "execution_count": null,
   "id": "cb4aac47-f043-40c4-a3cc-d53d6139a19b",
   "metadata": {},
   "outputs": [],
   "source": [
    "def doInference(network_path, config, sorted_paths, size = -1, video=False):\n",
    "    overallIoU = []\n",
    "    overallDice = []\n",
    "    for pat_name, sorted_paths_dict in sorted_paths.items():\n",
    "    \n",
    "        # Clearing GPU Cache\n",
    "        torch.cuda.empty_cache()\n",
    "        network = XMem(config, network_path).eval().to(device)\n",
    "        processor = InferenceCore(network, config=config)\n",
    "        NUM_OBJECTS = 1 # Binary Segmentation\n",
    "        processor.set_all_labels(range(1, NUM_OBJECTS+1))\n",
    "\n",
    "        image_files = [img_path for img_path, _ in sorted_paths_dict.values()]\n",
    "        mask_files = [mask_path for _, mask_path in sorted_paths_dict.values()]\n",
    "        \n",
    "        # Getting first Ground Truth mask.\n",
    "        mask, start_idx = firstMaskGT(mask_files)\n",
    "        print(\"Mask starting from:\", start_idx)\n",
    "    \n",
    "        print(f\"Running Inference on {pat_name}...\")\n",
    "        frames, predictions = singleVideoInference(image_files[start_idx:], mask,\n",
    "                                                  processor, size = size)\n",
    "        save_path = None\n",
    "        if video:\n",
    "            save_path = Path(f\"./pred_masks/{pat_name}\")\n",
    "            os.makedirs(save_path, exist_ok=True)\n",
    "            \n",
    "        IoU, _, dice, _, overlaid_images = getIoU(predictions, sorted_paths_dict,\n",
    "                                 video=video, og_frames = frames, save_path=save_path)\n",
    "        \n",
    "        print(f\"Video \\\"{pat_name}\\\", mean IoU is: {IoU}\")\n",
    "        print(f\"Video \\\"{pat_name}\\\", mean dice is: {dice}\")\n",
    "\n",
    "        # Convert to Video\n",
    "        if video:\n",
    "            os.makedirs(\"./videos\", exist_ok=True)\n",
    "            frames2video(frames_dict=overlaid_images, folder_save_path = \"./videos\", video_name=pat_name, FPS=5)\n",
    "        \n",
    "        overallIoU.append(IoU)\n",
    "        overallDice.append(dice)\n",
    "        print()\n",
    "\n",
    "        del network, processor\n",
    "        torch.cuda.empty_cache()\n",
    "        gc.collect()\n",
    "    \n",
    "    print(f\"Average IoU over all videos is: {sum(overallIoU)/len(overallIoU)}.\")\n",
    "    print(f\"Average Dice over all videos is: {sum(overallDice)/len(overallDice)}.\")\n",
    "\n",
    "    return overallIoU, overallDice"
   ]
  },
  {
   "cell_type": "markdown",
   "id": "92dd5dd2-72b9-4825-8682-647c196be83e",
   "metadata": {},
   "source": [
    "## Check all .pth files and select best"
   ]
  },
  {
   "cell_type": "code",
   "execution_count": null,
   "id": "0614489e-50fd-44bc-b469-8a84db5f01f5",
   "metadata": {},
   "outputs": [],
   "source": [
    "saved_folder = \"Dec28_16.48.56_Binary_RLL_PA\" # Weights Folder\n",
    "patient1 = \"p14\" # Test Patient 1\n",
    "patient2 = \"p20\" # Test Patient 2\n",
    "comb = patient1+patient2"
   ]
  },
  {
   "cell_type": "code",
   "execution_count": null,
   "id": "773ae630-9d2a-40e7-b1a3-2e39239f97a7",
   "metadata": {},
   "outputs": [],
   "source": [
    "TEST_PATIENTS = set([patient1, patient2])\n",
    "# TEST_PATIENTS = set([\"rll-p01\", \"p01\", \"p02\", \"p03\"]) # For RLL PV and LUL PA dataset testing\n",
    "\n",
    "paths = {pat: {} for pat in TEST_PATIENTS}\n",
    "for folder in MASKS_PATH.iterdir():\n",
    "    pat_name = folder.name.split('_')[0]\n",
    "    if pat_name not in TEST_PATIENTS:\n",
    "        continue\n",
    "    for mask_path in folder.iterdir():\n",
    "        paths[pat_name][mask_path.name] = (VIDEOS_PATH/folder.name/mask_path.name, mask_path)\n",
    "\n",
    "sorted_paths = {pat: {k:v for k,v in sorted(l.items(), key=lambda x: x[0])} for pat, l in paths.items()}"
   ]
  },
  {
   "cell_type": "markdown",
   "id": "c3b1671d",
   "metadata": {},
   "source": [
    "### Inference using each `.pth` file"
   ]
  },
  {
   "cell_type": "code",
   "execution_count": null,
   "id": "5337d6cc-7c64-4b56-a7b1-23f4d78628cf",
   "metadata": {
    "scrolled": true
   },
   "outputs": [],
   "source": [
    "paths = []\n",
    "for network_path in Path(f\"./saves/{saved_folder}\").iterdir():\n",
    "    if 'checkpoint' in network_path.name or '.pth' not in network_path.name:\n",
    "        continue\n",
    "    paths.append(network_path)\n",
    "        \n",
    "IoUs = {}\n",
    "for network_path in sorted(paths, key = lambda x: int(x.name.split('_')[-1].split('.')[0])):\n",
    "    print(network_path.name)\n",
    "    overallIoU, overallDice = doInference(network_path, config, sorted_paths, size = 384)\n",
    "    IoUs[network_path.name] = sum(overallIoU)/len(overallIoU)\n",
    "    print('*'*100)"
   ]
  },
  {
   "cell_type": "code",
   "execution_count": null,
   "id": "d99f4e9f-47a1-46a8-b34b-0ace508405de",
   "metadata": {},
   "outputs": [],
   "source": [
    "# Print in Decreasing Order the IoU\n",
    "sorted_path_iou = sorted(IoUs.items(), key=lambda x: x[1], reverse=True)\n",
    "sorted_path_iou[:7]"
   ]
  },
  {
   "cell_type": "code",
   "execution_count": null,
   "id": "694ecee0-ee49-4268-8f45-a3ab3159936e",
   "metadata": {},
   "outputs": [],
   "source": [
    "print(\"All .pth files Inference Completed\")"
   ]
  },
  {
   "cell_type": "code",
   "execution_count": null,
   "id": "47fb051b-6baa-4dd2-85ad-b448f8aad9d9",
   "metadata": {},
   "outputs": [],
   "source": [
    "from shutil import copy2\n",
    "# Rename and Copy the best model to `saves`\n",
    "copy2(f\"./saves/{saved_folder}/{sorted_path_iou[0][0]}\", f\"./saves/XMem_BinaryRLLPA_All-{comb}.pth\")"
   ]
  },
  {
   "cell_type": "code",
   "execution_count": null,
   "id": "110d609d-e86a-4b0d-85af-68ebec89928f",
   "metadata": {},
   "outputs": [],
   "source": [
    "# Rename and Copy the Tensorboard Logs to `saves`\n",
    "for tensorboard_path in Path(f\"./saves/{saved_folder}\").iterdir():\n",
    "    if \"events.out\" not in tensorboard_path.name:\n",
    "        continue\n",
    "    copy2(tensorboard_path, f\"./saves/events.out.tfevents.All-{comb}\")\n",
    "    break"
   ]
  },
  {
   "cell_type": "code",
   "execution_count": null,
   "id": "08b1fe88-d4a4-4aa0-9f22-75d34bccdbf3",
   "metadata": {},
   "outputs": [],
   "source": [
    "!aws s3 cp ./saves/XMem_BinaryRLLPA_All-p14p20.pth s3://all-patients/weights/XMem/\n",
    "!aws s3 cp ./saves/events.out.tfevents.All-p14p20 s3://all-patients/logs/XMem/"
   ]
  },
  {
   "cell_type": "code",
   "execution_count": null,
   "id": "6caa7bfc-9ef4-41f9-ae8e-1996ee951a2c",
   "metadata": {},
   "outputs": [],
   "source": [
    "network_path = f\"./saves/XMem_BinaryRLLPA_All-{comb}.pth\"\n",
    "os.makedirs(\"./pred_masks\", exist_ok=True)\n",
    "overallIoU, overallDice = doInference(network_path, config, sorted_paths, size = 384, video=True)"
   ]
  },
  {
   "cell_type": "code",
   "execution_count": null,
   "id": "df6d6ab3-1330-43db-ba3e-91c9575c5504",
   "metadata": {},
   "outputs": [],
   "source": [
    "print(\"Best .pth file Inference Completed\")"
   ]
  },
  {
   "cell_type": "markdown",
   "id": "8ed68f27",
   "metadata": {},
   "source": [
    "### Loop thorugh all best `.pth` from each run and do inference"
   ]
  },
  {
   "cell_type": "code",
   "execution_count": null,
   "id": "a0908918-8f95-46d9-a95b-484f4c90aade",
   "metadata": {},
   "outputs": [],
   "source": [
    "paths = []\n",
    "for network_path in Path(f\"./saves\").iterdir():\n",
    "    if 'checkpoint' in network_path.name or '.pth' not in network_path.name:\n",
    "        continue\n",
    "    paths.append(network_path)\n",
    "os.makedirs(\"./pred_masks\", exist_ok=True)\n",
    "\n",
    "IoUs = {}\n",
    "for network_path in sorted(paths):\n",
    "    print(network_path.name)\n",
    "    # Get testing patients from the file name eg:XMem_BinaryRLLPA_All-p1p2 -> p1, p2\n",
    "    pat_comb = network_path.name.split(\"-\")[-1]\n",
    "    p1, p2 = [match.group() for match in re.finditer(r'p(\\d{1,2})', pat_comb)]\n",
    "    print(\"Test Patients:\", p1, p2)\n",
    "    TEST_PATIENTS = set([p1, p2])\n",
    "    paths = {pat: {} for pat in TEST_PATIENTS}\n",
    "\n",
    "    for folder in MASKS_PATH.iterdir():\n",
    "        pat_name = folder.name.split('_')[0]\n",
    "        if pat_name not in TEST_PATIENTS:\n",
    "            continue\n",
    "        for mask_path in folder.iterdir():\n",
    "            paths[pat_name][mask_path.name] = (VIDEOS_PATH/folder.name/mask_path.name, mask_path)\n",
    "\n",
    "    sorted_paths = {pat: {k:v for k,v in sorted(l.items(), key=lambda x: x[0])} for pat, l in paths.items()}\n",
    "\n",
    "    overallIoU, overallDice = doInference(network_path, config, sorted_paths, size = 384, video=True)\n",
    "    IoUs[network_path.name] = sum(overallIoU)/len(overallIoU)\n",
    "    print('*'*100)"
   ]
  }
 ],
 "metadata": {
  "kernelspec": {
   "display_name": "Python 3 (ipykernel)",
   "language": "python",
   "name": "python3"
  },
  "language_info": {
   "codemirror_mode": {
    "name": "ipython",
    "version": 3
   },
   "file_extension": ".py",
   "mimetype": "text/x-python",
   "name": "python",
   "nbconvert_exporter": "python",
   "pygments_lexer": "ipython3",
   "version": "3.11.7"
  }
 },
 "nbformat": 4,
 "nbformat_minor": 5
}
