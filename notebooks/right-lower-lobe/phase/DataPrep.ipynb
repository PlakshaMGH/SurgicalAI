{
 "cells": [
  {
   "cell_type": "code",
   "execution_count": null,
   "metadata": {},
   "outputs": [],
   "source": [
    "from pathlib import Path\n",
    "import json\n",
    "import random\n",
    "import shutil\n",
    "\n",
    "from tqdm import tqdm\n",
    "import cv2\n",
    "import numpy as np\n",
    "from PIL import Image\n",
    "\n",
    "from matplotlib import pyplot as plt"
   ]
  },
  {
   "cell_type": "code",
   "execution_count": null,
   "metadata": {},
   "outputs": [],
   "source": [
    "frames_folder = Path(\"/workspace/frames\")\n",
    "ann_folder = Path(\"/workspace/Annotations\")"
   ]
  },
  {
   "cell_type": "code",
   "execution_count": null,
   "metadata": {},
   "outputs": [],
   "source": [
    "for folder in sorted(frames_folder.iterdir()):\n",
    "    num_files = len(list(folder.glob('*.jpg')))\n",
    "    print(f\"Folder {folder.name} contains {num_files} jpg files\", end= \" \")\n",
    "\n",
    "    # Load the JSON data\n",
    "    with open(ann_folder/f\"{folder.name}.json\", 'r') as f:\n",
    "        data = json.load(f)\n",
    "\n",
    "    # Get the total number of frames\n",
    "    total_frames = max(ann['startFrame']+ann['numberFrames'] for ann in data)\n",
    "\n",
    "    print(f\"and {total_frames} annotations\")"
   ]
  },
  {
   "cell_type": "markdown",
   "metadata": {},
   "source": [
    "## Number of Examples for each Class"
   ]
  },
  {
   "cell_type": "code",
   "execution_count": null,
   "metadata": {},
   "outputs": [],
   "source": [
    "classes_count = {}\n",
    "for file in sorted(ann_folder.iterdir()):\n",
    "    if file.suffix == \".json\":\n",
    "        # Load the JSON data\n",
    "        with open(file, 'r') as f:\n",
    "            data = json.load(f)\n",
    "        \n",
    "        for ann in data:\n",
    "            c = ann[\"label\"][\"name\"]\n",
    "            if c.startswith(\"P\"):\n",
    "                classes_count[c] = classes_count.get(c, 0) + ann[\"numberFrames\"]\n",
    "classes_count = {k: classes_count[k] for k in sorted(classes_count, key=lambda x: int(x.split()[0][1:]))}\n",
    "classes_count"
   ]
  },
  {
   "cell_type": "code",
   "execution_count": null,
   "metadata": {},
   "outputs": [],
   "source": [
    "with open('/workspace/class_count.json', 'w') as file:\n",
    "    json.dump(classes_count, file, indent=4)"
   ]
  },
  {
   "cell_type": "markdown",
   "metadata": {},
   "source": [
    "## Sampling at 30FPS"
   ]
  },
  {
   "cell_type": "code",
   "execution_count": null,
   "metadata": {},
   "outputs": [],
   "source": [
    "cls_count = {}\n",
    "mapping = {}\n",
    "label_f = open(\"/workspace/1fps_labels.txt\", \"w\")\n",
    "for file in sorted(ann_folder.iterdir()):\n",
    "    if file.suffix != \".json\":\n",
    "        continue\n",
    "    # Load the JSON data\n",
    "    with open(file, 'r') as f:\n",
    "        data = json.load(f)\n",
    "    \n",
    "    for ann in data:\n",
    "        c = ann[\"label\"][\"name\"]\n",
    "        if c.startswith(\"P\"):\n",
    "            s = ann[\"startFrame\"] + 15 # tolerance of 0.5 seconds\n",
    "            e = ann[\"startFrame\"] + ann[\"numberFrames\"] - 15 # tolerance of 0.5 seconds\n",
    "            skip = 30\n",
    "            for i in range(s,e,skip):\n",
    "                new_c = c.split(' ')[0].lower()\n",
    "                mapping[new_c] = c\n",
    "                label_f.write(f\"{file.stem}/frame{i:06d}.jpg,{new_c}\\n\")\n",
    "                cls_count[new_c] = cls_count.get(new_c, 0) + 1\n",
    "cls_count = {k: cls_count[k] for k in sorted(cls_count, key=lambda x: int(x.split()[0][1:]))}\n",
    "mapping = {k: mapping[k] for k in sorted(mapping, key=lambda x: int(x.split()[0][1:]))}\n",
    "label_f.close()\n"
   ]
  },
  {
   "cell_type": "code",
   "execution_count": null,
   "metadata": {},
   "outputs": [],
   "source": [
    "cls_count, mapping"
   ]
  },
  {
   "cell_type": "code",
   "execution_count": null,
   "metadata": {},
   "outputs": [],
   "source": [
    "with open('/workspace/mapping.json', 'w') as file:\n",
    "    json.dump(mapping, file, indent=4)"
   ]
  },
  {
   "cell_type": "markdown",
   "metadata": {},
   "source": [
    "## Uniform Sampling Examples Collection"
   ]
  },
  {
   "cell_type": "code",
   "execution_count": null,
   "metadata": {},
   "outputs": [],
   "source": [
    "cls2frames = {}\n",
    "x = {}\n",
    "for file in sorted(ann_folder.iterdir()):\n",
    "    if file.suffix != \".json\":\n",
    "        continue\n",
    "\n",
    "    # Load the JSON data\n",
    "    with open(file, 'r') as f:\n",
    "        data = json.load(f)\n",
    "    \n",
    "    for ann in data:\n",
    "        c = ann[\"label\"][\"name\"]\n",
    "        if c.startswith(\"P\"):\n",
    "            s = ann[\"startFrame\"] #+ 15 # tolerance of 0.5 seconds\n",
    "            e = ann[\"startFrame\"] + ann[\"numberFrames\"] #- 15 # tolerance of 0.5 seconds\n",
    "            for i in range(s,e+1):\n",
    "                new_c = c.split(' ')[0].lower()\n",
    "                if cls2frames.get(new_c, False):\n",
    "                    cls2frames[new_c].append(f\"{file.stem}/frame{i:06d}.jpg\")\n",
    "                else:\n",
    "                    cls2frames[new_c] = [f\"{file.stem}/frame{i:06d}.jpg\"]\n",
    "\n",
    "cls2frames = {k: cls2frames[k] for k in sorted(cls2frames, key=lambda x: int(x.split()[0][1:]))}\n",
    "\n",
    "for k,v in cls2frames.items():\n",
    "    print(k, len(v))"
   ]
  },
  {
   "cell_type": "code",
   "execution_count": null,
   "metadata": {},
   "outputs": [],
   "source": [
    "label_f = open(\"/workspace/uniform_labels.txt\", \"w\")\n",
    "final_list = []\n",
    "for k,v in cls2frames.items():\n",
    "    sampled = random.sample(v, k = 10_000)\n",
    "    final_list.extend(sampled)\n",
    "    for s in sampled:\n",
    "        label_f.write(f\"{s},{k}\\n\")\n",
    "label_f.close()\n"
   ]
  },
  {
   "cell_type": "markdown",
   "metadata": {},
   "source": [
    "## Crop and Copy"
   ]
  },
  {
   "cell_type": "code",
   "execution_count": null,
   "metadata": {},
   "outputs": [],
   "source": [
    "def get_cropping_co_ord(image):\n",
    "    \"\"\"\n",
    "    Crop the Image\n",
    "    Loop through each direction, left, right, top and bottom\n",
    "\n",
    "    When ever the pixel value is greater than [5,5,5], use that pixel as starting\n",
    "    point for the crop in that direction.\n",
    "    \"\"\"\n",
    "    TOPL_X, TOPL_Y, BOTTOMR_X, BOTTOMR_Y = (None,)*4\n",
    "    h, w, _ = image.shape\n",
    "    # Getting TOPL_X\n",
    "    for i in range(w):\n",
    "        if not np.any(image[h//2,i,:] < (5,5,5)):\n",
    "            TOPL_X = i\n",
    "            break\n",
    "        \n",
    "    # Getting TOPL_Y\n",
    "    for i in range(h):\n",
    "        if not np.any(image[i,w//2,:] < (5,5,5)):\n",
    "            TOPL_Y = i\n",
    "            break\n",
    "    \n",
    "    # Getting BOTTOMR_X\n",
    "    for i in range(w-1,0,-1):\n",
    "        if not np.any(image[h//2,i,:] < (5,5,5)):\n",
    "            BOTTOMR_X = i\n",
    "            break\n",
    "    \n",
    "    # Getting BOTTOMR_Y\n",
    "    for i in range(h-1,0,-1):\n",
    "        if not np.any(image[i,w//2,:] < (5,5,5)):\n",
    "            BOTTOMR_Y = i\n",
    "            break\n",
    "\n",
    "    return TOPL_X, TOPL_Y, BOTTOMR_X, BOTTOMR_Y"
   ]
  },
  {
   "cell_type": "code",
   "execution_count": null,
   "metadata": {},
   "outputs": [],
   "source": [
    "frames_shape = {}\n",
    "for folder in frames_folder.iterdir():\n",
    "    img = np.array(Image.open(folder/\"frame001234.jpg\"))\n",
    "    TOPL_X, TOPL_Y, BOTTOMR_X, BOTTOMR_Y = get_cropping_co_ord(img)\n",
    "    frames_shape[folder.name] = TOPL_X, TOPL_Y, BOTTOMR_X, BOTTOMR_Y"
   ]
  },
  {
   "cell_type": "code",
   "execution_count": null,
   "metadata": {},
   "outputs": [],
   "source": [
    "for image_path in tqdm(final_list):\n",
    "    folder_name = image_path.split('/')[0]\n",
    "    Path(f\"/workspace/data/frames/{folder_name}\").mkdir(parents=True, exist_ok=True)\n",
    "    img = np.array(Image.open(frames_folder/image_path))\n",
    "    TOPL_X, TOPL_Y, BOTTOMR_X, BOTTOMR_Y = frames_shape[folder_name]\n",
    "    img = Image.fromarray(img[TOPL_Y:BOTTOMR_Y, TOPL_X:BOTTOMR_X])\n",
    "    img.save(f\"/workspace/data/frames/{image_path}\")"
   ]
  }
 ],
 "metadata": {
  "kernelspec": {
   "display_name": "Python 3",
   "language": "python",
   "name": "python3"
  },
  "language_info": {
   "codemirror_mode": {
    "name": "ipython",
    "version": 3
   },
   "file_extension": ".py",
   "mimetype": "text/x-python",
   "name": "python",
   "nbconvert_exporter": "python",
   "pygments_lexer": "ipython3",
   "version": "3.10.12"
  }
 },
 "nbformat": 4,
 "nbformat_minor": 2
}
